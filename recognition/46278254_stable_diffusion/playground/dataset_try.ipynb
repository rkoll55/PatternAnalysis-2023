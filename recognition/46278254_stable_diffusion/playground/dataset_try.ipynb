{
 "cells": [
  {
   "cell_type": "code",
   "execution_count": 5,
   "metadata": {},
   "outputs": [],
   "source": [
    "import torch\n",
    "\n",
    "\n",
    "class MyDataset(torch.utils.data.Dataset):\n",
    "\n",
    "    def __init__(self):\n",
    "        pass\n",
    "\n",
    "    def __len__(self):\n",
    "        return 100\n",
    "\n",
    "    def __getitem__(self, idx):\n",
    "        return torch.zeros([1]) + idx * 2\n",
    "\n",
    "dataset = MyDataset()\n"
   ]
  },
  {
   "cell_type": "code",
   "execution_count": 20,
   "metadata": {},
   "outputs": [
    {
     "name": "stdout",
     "output_type": "stream",
     "text": [
      "tensor([ 0.,  4.,  8., 12., 16., 20., 24., 28., 32., 36., 40., 44., 48., 52.,\n",
      "        56., 60.])\n",
      "tensor([ 64.,  68.,  72.,  76.,  80.,  84.,  88.,  92.,  96., 100., 104., 108.,\n",
      "        112., 116., 120., 124.])\n",
      "tensor([128., 132., 136., 140., 144., 148., 152., 156., 160., 164., 168., 172.,\n",
      "        176., 180., 184., 188.])\n",
      "tensor([192., 196., 200., 204., 208., 212., 216., 220., 224., 228., 232., 236.,\n",
      "        240., 244., 248., 252.])\n",
      "tensor([256., 260., 264., 268., 272., 276., 280., 284., 288., 292., 296., 300.,\n",
      "        304., 308., 312., 316.])\n",
      "tensor([320., 324., 328., 332., 336., 340., 344., 348., 352., 356., 360., 364.,\n",
      "        368., 372., 376., 380.])\n",
      "tensor([384., 388., 392., 396.])\n"
     ]
    }
   ],
   "source": [
    "def f(batch):\n",
    "    return torch.cat(batch) * 2\n",
    "dataloader = torch.utils.data.DataLoader(dataset, batch_size=16, shuffle=False, collate_fn=f)\n",
    "for i in dataloader:\n",
    "    print(i)"
   ]
  },
  {
   "cell_type": "code",
   "execution_count": 25,
   "metadata": {},
   "outputs": [
    {
     "name": "stdout",
     "output_type": "stream",
     "text": [
      "..\\dataset.py\n",
      "..\\latent_dataset.py\n",
      "..\\logger.py\n",
      "..\\model_diffusion.py\n",
      "..\\model_discriminator.py\n",
      "..\\model_VAE.py\n",
      "..\\module.py\n",
      "..\\prestage_train.py\n",
      "..\\stable_diffusion.py\n",
      "..\\util.py\n"
     ]
    }
   ],
   "source": [
    "from glob import glob\n",
    "\n",
    "for cur_path in glob('../*.py'):\n",
    "    print(cur_path)"
   ]
  }
 ],
 "metadata": {
  "kernelspec": {
   "display_name": "Python 3",
   "language": "python",
   "name": "python3"
  },
  "language_info": {
   "codemirror_mode": {
    "name": "ipython",
    "version": 3
   },
   "file_extension": ".py",
   "mimetype": "text/x-python",
   "name": "python",
   "nbconvert_exporter": "python",
   "pygments_lexer": "ipython3",
   "version": "3.9.6"
  }
 },
 "nbformat": 4,
 "nbformat_minor": 2
}
