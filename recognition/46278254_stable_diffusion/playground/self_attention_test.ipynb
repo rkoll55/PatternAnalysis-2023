{
 "cells": [
  {
   "cell_type": "code",
   "execution_count": 17,
   "metadata": {},
   "outputs": [],
   "source": [
    "import torch\n",
    "import torch.nn as nn\n",
    "from einops import rearrange"
   ]
  },
  {
   "cell_type": "code",
   "execution_count": 20,
   "metadata": {},
   "outputs": [
    {
     "name": "stdout",
     "output_type": "stream",
     "text": [
      "torch.Size([3, 1, 5]) torch.Size([3, 5, 1]) torch.Size([3, 1, 5])\n",
      "torch.Size([3, 5, 5])\n",
      "torch.Size([3, 5, 5]) torch.Size([3, 1, 5])\n"
     ]
    }
   ],
   "source": [
    "w = torch.randn(3, 5)\n",
    "\n",
    "\n",
    "k = nn.Linear(5, 5)\n",
    "q = nn.Linear(5, 5)\n",
    "v = nn.Linear(5, 5)\n",
    "\n",
    "V = v(w)[:, None, :] # 3, 1, 5\n",
    "K = k(w)[:, None, :] # 3, 1, 5\n",
    "Q = q(w)[:, :, None] # 3, 5, 1 \n",
    "W = torch.bmm(Q, K) #(W[i, j]= query i <-> key j)\n",
    "\n",
    "W = nn.functional.softmax(W * (5**-0.5), dim=2)\n",
    "# H[i] = key i \n",
    "print(K.shape, Q.shape, V.shape)\n",
    "print(W.shape)\n",
    "# W = attention score\n",
    "W = rearrange(W, 'b q k -> b k q')\n",
    "#(W[i, j]= key i <-> query j)\n",
    "# V[j] = (1, value j) @ (key j <-> query i)\n",
    "'''\n",
    "             | k1q1 k1q2 k1q3 |  \n",
    "[ v1 v2 v3]  | k2q1 k2q2 k2q3 | = [v1(k1q1) + v2(k2q1) + v3(k3q1), ...]\n",
    "             | k3q1 k3q2 k3q3 |\n",
    "'''\n",
    "H = torch.bmm(V, W)\n",
    "print(W.shape, H.shape)\n"
   ]
  }
 ],
 "metadata": {
  "kernelspec": {
   "display_name": "Python 3",
   "language": "python",
   "name": "python3"
  },
  "language_info": {
   "codemirror_mode": {
    "name": "ipython",
    "version": 3
   },
   "file_extension": ".py",
   "mimetype": "text/x-python",
   "name": "python",
   "nbconvert_exporter": "python",
   "pygments_lexer": "ipython3",
   "version": "3.9.6"
  },
  "orig_nbformat": 4
 },
 "nbformat": 4,
 "nbformat_minor": 2
}
