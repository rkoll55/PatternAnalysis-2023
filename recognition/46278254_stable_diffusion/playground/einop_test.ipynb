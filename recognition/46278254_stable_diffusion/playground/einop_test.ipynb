{
 "cells": [
  {
   "cell_type": "code",
   "execution_count": 2,
   "metadata": {},
   "outputs": [],
   "source": [
    "import torch\n",
    "from einops import rearrange, reduce, repeat"
   ]
  },
  {
   "cell_type": "code",
   "execution_count": 13,
   "metadata": {},
   "outputs": [
    {
     "name": "stdout",
     "output_type": "stream",
     "text": [
      "tensor([ 0,  1,  2,  3,  4,  5,  6,  7,  8,  9, 10, 11, 12, 13, 14, 15])\n",
      "tensor([[ 0,  1,  2,  3],\n",
      "        [ 4,  5,  6,  7],\n",
      "        [ 8,  9, 10, 11],\n",
      "        [12, 13, 14, 15]])\n",
      "tensor([[ 0,  4,  8, 12],\n",
      "        [ 1,  5,  9, 13],\n",
      "        [ 2,  6, 10, 14],\n",
      "        [ 3,  7, 11, 15]])\n",
      "torch.Size([2, 2, 4]) tensor([[[ 0,  4,  8, 12],\n",
      "         [ 1,  5,  9, 13]],\n",
      "\n",
      "        [[ 2,  6, 10, 14],\n",
      "         [ 3,  7, 11, 15]]])\n",
      "torch.Size([4, 2, 2]) tensor([[[ 0,  2],\n",
      "         [ 1,  3]],\n",
      "\n",
      "        [[ 4,  6],\n",
      "         [ 5,  7]],\n",
      "\n",
      "        [[ 8, 10],\n",
      "         [ 9, 11]],\n",
      "\n",
      "        [[12, 14],\n",
      "         [13, 15]]])\n"
     ]
    }
   ],
   "source": [
    "W = torch.arange(0, 16).long()\n",
    "print(W)\n",
    "\n",
    "# Split\n",
    "W = rearrange(W, '( H W ) -> H W', H = 4)\n",
    "print(W)\n",
    "\n",
    "# Transpose\n",
    "W = rearrange(W, 'H W -> W H')\n",
    "print(W)\n",
    "\n",
    "W = rearrange(W, '( H1 H2 ) W -> H1 H2 W', H1 = 2)\n",
    "print(W.shape, W)\n",
    "\n",
    "W = rearrange(W, 'H1 H2 W -> W H2 H1', H1 = 2)\n",
    "print(W.shape, W)\n"
   ]
  },
  {
   "cell_type": "code",
   "execution_count": 44,
   "metadata": {},
   "outputs": [
    {
     "name": "stdout",
     "output_type": "stream",
     "text": [
      "[ 0  1  2  3  4  5  6  7  8  9 10 11 12 13 14 15]\n",
      "[[ 0  1  2  3]\n",
      " [ 4  5  6  7]\n",
      " [ 8  9 10 11]\n",
      " [12 13 14 15]]\n",
      "[[ 3]\n",
      " [ 7]\n",
      " [11]\n",
      " [15]]\n",
      "[[ 3  3  3  3]\n",
      " [ 7  7  7  7]\n",
      " [11 11 11 11]\n",
      " [15 15 15 15]]\n",
      "[ 3  3  3  3  7  7  7  7 11 11 11 11 15 15 15 15]\n"
     ]
    }
   ],
   "source": [
    "import numpy as np\n",
    "W = np.arange(0, 16)\n",
    "print(W)\n",
    "\n",
    "# Split\n",
    "W = rearrange(W, '( H W ) -> H W', H = 4)\n",
    "print(W)\n",
    "\n",
    "W = reduce(W, 'H W -> H 1', 'max')\n",
    "print(W)\n",
    "\n",
    "W = repeat(W, 'H 1 -> H 4') \n",
    "print(W)\n",
    "\n",
    "W = repeat(W, 'H C -> (H C)') \n",
    "print(W)"
   ]
  }
 ],
 "metadata": {
  "kernelspec": {
   "display_name": "Python 3",
   "language": "python",
   "name": "python3"
  },
  "language_info": {
   "codemirror_mode": {
    "name": "ipython",
    "version": 3
   },
   "file_extension": ".py",
   "mimetype": "text/x-python",
   "name": "python",
   "nbconvert_exporter": "python",
   "pygments_lexer": "ipython3",
   "version": "3.9.6"
  },
  "orig_nbformat": 4
 },
 "nbformat": 4,
 "nbformat_minor": 2
}
