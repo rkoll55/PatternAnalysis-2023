{
 "cells": [
  {
   "cell_type": "code",
   "execution_count": 1,
   "metadata": {},
   "outputs": [],
   "source": [
    "import torch\n",
    "import torch.nn as nn"
   ]
  },
  {
   "cell_type": "code",
   "execution_count": 30,
   "metadata": {},
   "outputs": [
    {
     "name": "stdout",
     "output_type": "stream",
     "text": [
      "tensor([[[[ 1.,  2.,  3.,  4.],\n",
      "          [ 5.,  6.,  7.,  8.],\n",
      "          [ 9., 10., 11., 12.],\n",
      "          [13., 14., 15., 16.]]]]) Parameter containing:\n",
      "tensor([[[[0.1111, 0.1111, 0.1111],\n",
      "          [0.1111, 0.1111, 0.1111],\n",
      "          [0.1111, 0.1111, 0.1111]]]], requires_grad=True)\n",
      "tensor([[[[ 1.,  2.,  3.,  4.,  0.],\n",
      "          [ 5.,  6.,  7.,  8.,  0.],\n",
      "          [ 9., 10., 11., 12.,  0.],\n",
      "          [13., 14., 15., 16.,  0.],\n",
      "          [ 0.,  0.,  0.,  0.,  0.]]]]) Parameter containing:\n",
      "tensor([[[[0.1111, 0.1111, 0.1111],\n",
      "          [0.1111, 0.1111, 0.1111],\n",
      "          [0.1111, 0.1111, 0.1111]]]], requires_grad=True)\n",
      "tensor([[[[ 0.,  0.,  0.,  0.,  0.],\n",
      "          [ 0.,  1.,  2.,  3.,  4.],\n",
      "          [ 0.,  5.,  6.,  7.,  8.],\n",
      "          [ 0.,  9., 10., 11., 12.],\n",
      "          [ 0., 13., 14., 15., 16.]]]]) Parameter containing:\n",
      "tensor([[[[0.1111, 0.1111, 0.1111],\n",
      "          [0.1111, 0.1111, 0.1111],\n",
      "          [0.1111, 0.1111, 0.1111]]]], requires_grad=True)\n"
     ]
    }
   ],
   "source": [
    "C = nn.Conv2d(1, 1, 3, 2, 0, bias=False)\n",
    "nn.init.constant_(C.weight, 1.0/9)\n",
    "X1 = torch.Tensor(list(range(1, 17))).view([1, 1, 4, 4])\n",
    "X2 = torch.nn.functional.pad(X1, (0, 1, 0, 1), mode=\"constant\", value=0)\n",
    "X3 = torch.nn.functional.pad(X1, (1, 0, 1, 0), mode=\"constant\", value=0)\n",
    "print(X1, C.weight)\n",
    "print(X2, C.weight)\n",
    "print(X3, C.weight)"
   ]
  },
  {
   "cell_type": "code",
   "execution_count": 31,
   "metadata": {},
   "outputs": [
    {
     "name": "stdout",
     "output_type": "stream",
     "text": [
      "tensor([[[[6., 5.],\n",
      "          [8., 6.]]]], grad_fn=<ConvolutionBackward0>)\n",
      "tensor([[[[ 1.5556,  3.3333],\n",
      "          [ 6.3333, 11.0000]]]], grad_fn=<ConvolutionBackward0>)\n"
     ]
    }
   ],
   "source": [
    "print(C(X2))\n",
    "print(C(X3))"
   ]
  },
  {
   "cell_type": "code",
   "execution_count": 32,
   "metadata": {},
   "outputs": [
    {
     "name": "stdout",
     "output_type": "stream",
     "text": [
      "tensor([[[[ 1.5556,  3.3333],\n",
      "          [ 6.3333, 11.0000]]]], grad_fn=<ConvolutionBackward0>)\n"
     ]
    }
   ],
   "source": [
    "C2 = nn.Conv2d(1, 1, 3, 2, 1, bias=False)\n",
    "nn.init.constant_(C2.weight, 1.0/9)\n",
    "print(C2(X1))\n"
   ]
  }
 ],
 "metadata": {
  "kernelspec": {
   "display_name": "Python 3",
   "language": "python",
   "name": "python3"
  },
  "language_info": {
   "codemirror_mode": {
    "name": "ipython",
    "version": 3
   },
   "file_extension": ".py",
   "mimetype": "text/x-python",
   "name": "python",
   "nbconvert_exporter": "python",
   "pygments_lexer": "ipython3",
   "version": "3.9.6"
  },
  "orig_nbformat": 4
 },
 "nbformat": 4,
 "nbformat_minor": 2
}
