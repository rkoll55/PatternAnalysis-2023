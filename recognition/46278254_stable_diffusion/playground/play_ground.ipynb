{
 "cells": [
  {
   "cell_type": "code",
   "execution_count": 1,
   "metadata": {},
   "outputs": [],
   "source": [
    "import torch.nn as nn\n",
    "import torch"
   ]
  },
  {
   "cell_type": "code",
   "execution_count": 2,
   "metadata": {},
   "outputs": [],
   "source": [
    "# B, C, W, H\n",
    "X = torch.randn(2, 4, 32, 32)"
   ]
  },
  {
   "cell_type": "code",
   "execution_count": 7,
   "metadata": {},
   "outputs": [
    {
     "name": "stdout",
     "output_type": "stream",
     "text": [
      "torch.Size([6, 2, 3, 3])\n",
      "torch.Size([2, 6, 16, 16])\n",
      "torch.Size([2, 4, 16, 16])\n",
      "torch.Size([2, 4, 16, 16])\n"
     ]
    }
   ],
   "source": [
    "# nn.Conv2d(input_ch, out_ch, kernel_size, stride, padding)\n",
    "# inc * ouc * kernel_size ** 2\n",
    "# inc / group * ouc / group * group * kernel_size ** 2\n",
    "# [3 * 2 * 3 * 3] * 2\n",
    "# [ouc, inc/group, k, k]\n",
    "\n",
    "A = nn.Conv2d(4, 6, 3, 2, 1, groups=2)\n",
    "print(A.weight.shape)\n",
    "print(A(X).shape)\n",
    "B = nn.MaxPool2d(2)\n",
    "print(B(X).shape)\n",
    "C = nn.AvgPool2d(2)\n",
    "print(C(X).shape)"
   ]
  }
 ],
 "metadata": {
  "kernelspec": {
   "display_name": "Python 3",
   "language": "python",
   "name": "python3"
  },
  "language_info": {
   "codemirror_mode": {
    "name": "ipython",
    "version": 3
   },
   "file_extension": ".py",
   "mimetype": "text/x-python",
   "name": "python",
   "nbconvert_exporter": "python",
   "pygments_lexer": "ipython3",
   "version": "3.9.6"
  },
  "orig_nbformat": 4
 },
 "nbformat": 4,
 "nbformat_minor": 2
}
